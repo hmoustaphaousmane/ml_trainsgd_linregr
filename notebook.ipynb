{
 "cells": [
  {
   "cell_type": "code",
   "execution_count": null,
   "id": "69c12aef",
   "metadata": {},
   "outputs": [],
   "source": [
    "# La fonction train avec Stochoastic Gradient Descent\n",
    "def TrainSGD(x, y, lr, epoch):\n",
    "    m = len(y)\n",
    "    x = add_ones(x.values)\n",
    "    theta = np.zeros(x.shape[1])\n",
    "    cost_history = np.zeros(epoch)\n",
    "\n",
    "    for i in range(epoch):\n",
    "        for j in range(m):\n",
    "            rand_index = np.random.randint(0, m)\n",
    "            x_sample = x[rand_index, :]\n",
    "            y_sample = y[rand_index]\n",
    "            error = x_sample.dot(theta) - y_sample\n",
    "            gradient = x_sample * error\n",
    "            theta_new = theta - lr * gradient\n",
    "            theta = theta_new\n",
    "\n",
    "        cost_history[i] = compute_cost(x, y, theta)\n",
    "\n",
    "    return theta, cost_history"
   ]
  },
  {
   "cell_type": "code",
   "execution_count": null,
   "id": "df5e3d19",
   "metadata": {},
   "outputs": [],
   "source": [
    "# Correction\n",
    "def Train(self, X, y):\n",
    "    m = len\n",
    "    X = self.add_ones(X.values)\n",
    "    self.theta = np.zeros(X.shape[1])\n",
    "    \n",
    "    self.cost_history = np.zeros(self.epoch)\n",
    "    for i in range(self.epoch):\n",
    "        np.random.seed(3)\n",
    "        perm = np.random.permutation(len(X_train))\n",
    "        X = X[perm]\n",
    "        y = y.iloc[perm]\n",
    "        for j in range(len(X)):\n",
    "            theta_new = self.theta - self.lr*X[j].T.dot(X[j].dot(self.theta) - y.iloc[j])\n",
    "            self.theta = theta_new \n",
    "            self.cost_history[i] = self.compute_cost(X, y,self.theta)\n",
    "            \n",
    "    return  self.theta, self.cost_history"
   ]
  },
  {
   "cell_type": "code",
   "execution_count": null,
   "id": "da6ad1de",
   "metadata": {},
   "outputs": [],
   "source": [
    "import pandas\n",
    "from sklearn.model_selection import train_test_split\n",
    "from sklearn.linear_model import LinearRegression\n",
    "from matplotlib import pylab\n",
    "from pylab import *\n",
    "\n",
    "# Lire le fichier `data.xlsx` et sauver son contenu dans la varisble `data`\n",
    "data = pandas.read_excel(\"data.xlsx\")\n",
    "\n",
    "# Afficher le dataframe\n",
    "data.head ()"
   ]
  },
  {
   "cell_type": "code",
   "execution_count": null,
   "id": "be81070f",
   "metadata": {},
   "outputs": [],
   "source": [
    "# Nettoyer le dataframe\n",
    "data = data.dropna (how='any')\n",
    "\n",
    "# Récupperer la colonne à prédir Y\n",
    "Y = data.pop('Y')\n",
    "\n",
    "# Select the columns based on which prediction will be done.\n",
    "X = data.values\n",
    "\n",
    "# Afficher les features\n",
    "# display (y)\n",
    "# display (X)"
   ]
  },
  {
   "cell_type": "code",
   "execution_count": null,
   "id": "442526d0",
   "metadata": {},
   "outputs": [],
   "source": [
    "# Partager les données en deux parties : une pour l'apprentissage (train) et une autre pour le test\n",
    "X_train, X_test, Y_train, Y_test = train_test_split(X, Y, train_size = 0.33, test_size = 0.67, random_state=200)\n",
    "\n",
    "#Selecting the Algorithm for the model: Linear Regression\n",
    "lin_regr = LinearRegression()\n",
    "\n",
    "# On fit le modele (apprentissage)\n",
    "lin_regr.fit(X_train, Y_train)\n",
    "\n",
    "# Prédir la valeur de Y\n",
    "y_predict = lin_regr.predict(X_test)\n",
    "\n",
    "# Afficher la valeur prédite\n",
    "display(y_predict)"
   ]
  },
  {
   "cell_type": "code",
   "execution_count": null,
   "id": "5a291a16",
   "metadata": {},
   "outputs": [],
   "source": [
    "# Choix du graph\n",
    "pylab.scatter(y_predict, Y_test)\n",
    "\n",
    "# Labels\n",
    "pylab.xlabel('Predicted')\n",
    "pylab.ylabel('Actual')"
   ]
  },
  {
   "cell_type": "code",
   "execution_count": null,
   "id": "05e92665",
   "metadata": {},
   "outputs": [],
   "source": [
    "epoch = 2000\n",
    "loss_history = lin_regr.score (X_train, Y_train)\n",
    "# plt.style.use ('ggplot')\n",
    "plt.figure ()\n",
    "plt.plot (np.arange (epoch), loss_history, c = 'blue')\n",
    "plt.xlabel ('Iteration')\n",
    "plt.ylabel ('cost')"
   ]
  },
  {
   "cell_type": "code",
   "execution_count": 41,
   "id": "f17bbcdc",
   "metadata": {},
   "outputs": [
    {
     "name": "stdout",
     "output_type": "stream",
     "text": [
      "fatal: pathspec 'notebook' did not match any files\r\n"
     ]
    }
   ],
   "source": [
    "!git add notebook.ipynb"
   ]
  },
  {
   "cell_type": "code",
   "execution_count": null,
   "id": "a2d3f6e3",
   "metadata": {},
   "outputs": [],
   "source": []
  }
 ],
 "metadata": {
  "kernelspec": {
   "display_name": "Python 3 (ipykernel)",
   "language": "python",
   "name": "python3"
  },
  "language_info": {
   "codemirror_mode": {
    "name": "ipython",
    "version": 3
   },
   "file_extension": ".py",
   "mimetype": "text/x-python",
   "name": "python",
   "nbconvert_exporter": "python",
   "pygments_lexer": "ipython3",
   "version": "3.10.9"
  }
 },
 "nbformat": 4,
 "nbformat_minor": 5
}
