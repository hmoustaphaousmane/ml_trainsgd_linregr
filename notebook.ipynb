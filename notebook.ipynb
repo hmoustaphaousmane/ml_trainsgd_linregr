{
 "cells": [
  {
   "cell_type": "code",
   "execution_count": null,
   "id": "69c12aef",
   "metadata": {},
   "outputs": [],
   "source": [
    "# La fonction train avec Stochoastic Gradient Descent\n",
    "def TrainSGD(x, y, lr, epoch):\n",
    "    m = len(y)\n",
    "    x = add_ones(x.values)\n",
    "    theta = np.zeros(x.shape[1])\n",
    "    cost_history = np.zeros(epoch)\n",
    "\n",
    "    for i in range(epoch):\n",
    "        for j in range(m):\n",
    "            rand_index = np.random.randint(0, m)\n",
    "            x_sample = x[rand_index, :]\n",
    "            y_sample = y[rand_index]\n",
    "            error = x_sample.dot(theta) - y_sample\n",
    "            gradient = x_sample * error\n",
    "            theta_new = theta - lr * gradient\n",
    "            theta = theta_new\n",
    "\n",
    "        cost_history[i] = compute_cost(x, y, theta)\n",
    "\n",
    "    return theta, cost_history"
   ]
  },
  {
   "cell_type": "code",
   "execution_count": null,
   "id": "df5e3d19",
   "metadata": {},
   "outputs": [],
   "source": [
    "# Correction\n",
    "def Train(self, X, y):\n",
    "    m = len\n",
    "    X = self.add_ones(X.values)\n",
    "    self.theta = np.zeros(X.shape[1])\n",
    "    \n",
    "    self.cost_history = np.zeros(self.epoch)\n",
    "    for i in range(self.epoch):\n",
    "        np.random.seed(3)\n",
    "        perm = np.random.permutation(len(X_train))\n",
    "        X = X[perm]\n",
    "        y = y.iloc[perm]\n",
    "        for j in range(len(X)):\n",
    "            theta_new = self.theta - self.lr*X[j].T.dot(X[j].dot(self.theta) - y.iloc[j])\n",
    "            self.theta = theta_new \n",
    "            self.cost_history[i] = self.compute_cost(X, y,self.theta)\n",
    "            \n",
    "    return  self.theta, self.cost_history"
   ]
  },
  {
   "cell_type": "markdown",
   "id": "5065748b",
   "metadata": {},
   "source": [
    "---\n",
    "<center><h2> 2. Reprendre la regression linéaire avec scikit-learn. </h2></center>"
   ]
  },
  {
   "cell_type": "code",
   "execution_count": null,
   "id": "da6ad1de",
   "metadata": {},
   "outputs": [],
   "source": [
    "# Importer les bibliothèques nécessaires :\n",
    "import numpy as np\n",
    "import pandas as pd\n",
    "import matplotlib.pyplot as plt\n",
    "from sklearn.linear_model import LinearRegression\n",
    "from sklearn.model_selection import train_test_split\n",
    "from sklearn.metrics import mean_squared_error, r2_score"
   ]
  },
  {
   "cell_type": "code",
   "execution_count": null,
   "id": "2bafd415",
   "metadata": {},
   "outputs": [],
   "source": [
    "# Lire le fichier `data.xlsx` et sauver son contenu dans la varisble `data`\n",
    "data = pd.read_excel(\"data.xlsx\")\n",
    "\n",
    "# Afficher le dataframe\n",
    "data.head ()"
   ]
  },
  {
   "cell_type": "code",
   "execution_count": null,
   "id": "cc79b683",
   "metadata": {},
   "outputs": [],
   "source": [
    "# Récuperer la colonne à prédire Y\n",
    "Y = data.pop('Y')\n",
    "\n",
    "# Selectionner les colonnes sur lesquelles notre prédiction séra basée\n",
    "X = data.values\n",
    "\n",
    "# Afficher les features\n",
    "# display (y)\n",
    "# display (X)"
   ]
  },
  {
   "cell_type": "code",
   "execution_count": null,
   "id": "75ccccb6",
   "metadata": {},
   "outputs": [],
   "source": [
    "# Partager les données en deux parties : une pour l'apprentissage (train) et une autre pour le test\n",
    "X_train, X_test, Y_train, Y_test = train_test_split(X, Y)\n",
    "print(len(X_train))\n",
    "print(len(X_test))\n",
    "print(len(Y_train))\n",
    "print(len(Y_test))\n",
    "\n",
    "print ()\n",
    "\n",
    "print(X_train.shape)\n",
    "print(Y_train.shape)\n",
    "print(X_test.shape)\n",
    "print(Y_test.shape)"
   ]
  },
  {
   "cell_type": "code",
   "execution_count": null,
   "id": "ab378f29",
   "metadata": {},
   "outputs": [],
   "source": [
    "# Créer le model \n",
    "lin_regr = LinearRegression()\n",
    "\n",
    "# On fit (entraine) le modele (apprentissage)\n",
    "lin_regr.fit(X_train, Y_train)\n",
    "\n",
    "# Prédir la valeur de Y\n",
    "y_predict = lin_regr.predict(X_test)\n",
    "\n",
    "# Afficher la valeur prédite\n",
    "display(y_predict)"
   ]
  },
  {
   "cell_type": "code",
   "execution_count": null,
   "id": "857e1516",
   "metadata": {},
   "outputs": [],
   "source": [
    "# Mean Squared Error (mse) : l'erreur moyenne au carrée\n",
    "mse = mean_squared_error (Y_test, y_predict)\n",
    "print (\"Mean Squared Error :\", mse)\n",
    "\n",
    "# Root Mean Squared Error (rmse) : la racine carrée de l'erreur moyenne au carrée\n",
    "rmse = np.sqrt(mse)\n",
    "print (\"Root Mean Squared Error\", rmse)"
   ]
  },
  {
   "cell_type": "code",
   "execution_count": null,
   "id": "de66cd91",
   "metadata": {},
   "outputs": [],
   "source": [
    "# Choix du graph\n",
    "# plt.scatter(y_predict, Y_test)\n",
    "plt.scatter(Y_test, y_predict)\n",
    "\n",
    "plt.plot (np.arange (20000))\n",
    "# Labels\n",
    "plt.xlabel('Predicted')\n",
    "plt.ylabel('Actual')"
   ]
  },
  {
   "cell_type": "code",
   "execution_count": null,
   "id": "38a076ea",
   "metadata": {},
   "outputs": [],
   "source": []
  },
  {
   "cell_type": "markdown",
   "id": "55e5d0a2",
   "metadata": {},
   "source": [
    "---\n",
    "<center><h2> 3. Reprendre la regression logistique avec scikit-learn. </h2></center>"
   ]
  },
  {
   "cell_type": "code",
   "execution_count": null,
   "id": "880eaa5a",
   "metadata": {},
   "outputs": [],
   "source": [
    "# Importer les bibliothèques\n",
    "import numpy as np \n",
    "import pandas as pd \n",
    "from sklearn.linear_model import LogisticRegression\n",
    "from sklearn.model_selection import train_test_split\n",
    "from sklearn import metrics\n",
    "\n",
    "import seaborn as sns\n",
    "import matplotlib.pyplot as plt\n",
    "\n",
    "from scipy.special import expit"
   ]
  },
  {
   "cell_type": "code",
   "execution_count": null,
   "id": "c1896e75",
   "metadata": {},
   "outputs": [],
   "source": [
    "# Charger les données du fichier diabetes.csv\n",
    "data = pd.read_csv(\"diabetes.csv\")\n",
    "data.head ()"
   ]
  },
  {
   "cell_type": "code",
   "execution_count": null,
   "id": "e477d461",
   "metadata": {},
   "outputs": [],
   "source": [
    "# Récuperer les colonnes sur lesquelles la prédiction sera faite dans X et celle à rédire dans Y\n",
    "X = data.drop (\"Outcome\", axis = 1)\n",
    "Y = data [[\"Outcome\"]]"
   ]
  },
  {
   "cell_type": "code",
   "execution_count": null,
   "id": "0b6453eb",
   "metadata": {},
   "outputs": [],
   "source": [
    "# Séparer les données : celles d'apprentissage d'un côté et celles de test d'un autre côté \n",
    "X_train, X_test, Y_train, Y_test = train_test_split (X, Y, test_size = 0.30, random_state = 7)"
   ]
  },
  {
   "cell_type": "code",
   "execution_count": null,
   "id": "da56472c",
   "metadata": {},
   "outputs": [],
   "source": [
    "# Créer le modèle : Regression Logistique\n",
    "log_regr = LogisticRegression ()\n",
    "log_regr.fit (X_train, Y_train)"
   ]
  },
  {
   "cell_type": "code",
   "execution_count": null,
   "id": "51c63260",
   "metadata": {},
   "outputs": [],
   "source": [
    "# Prédire les valeurs de Y\n",
    "y_predict = log_regr.predict (X_test)\n",
    "y_predict"
   ]
  },
  {
   "cell_type": "code",
   "execution_count": null,
   "id": "8624bba7",
   "metadata": {},
   "outputs": [],
   "source": [
    "# plt.plot(X_test, y_predict, color='red')\n",
    "\n",
    "# Matrice de confusion\n",
    "conf_mat = metrics.confusion_matrix (Y_test, y_predict)\n",
    "\n",
    "# Représentation graphique de la matrice de confusion\n",
    "plt.figure (figsize = (10,6))\n",
    "plt.title (\"Matrice de confudsion\")\n",
    "sns.heatmap (conf_mat, annot = True, fmt = 'd', cmap = 'Blues')\n",
    "plt.ylabel (\"Valeurs réeles\")\n",
    "plt.xlabel (\"Valueurs prédites\")"
   ]
  },
  {
   "cell_type": "code",
   "execution_count": null,
   "id": "95453ee8",
   "metadata": {},
   "outputs": [],
   "source": []
  },
  {
   "cell_type": "markdown",
   "id": "293f41d8",
   "metadata": {},
   "source": [
    "---\n",
    "<center><h2>4. Reprendre l'Analyse de la Composante Principale (ACP) avec scikit-learn</h2></center>\n",
    "<center><h3>Principal Component Analysis (PCA)</h3></center>"
   ]
  },
  {
   "cell_type": "code",
   "execution_count": 9,
   "id": "474fba33",
   "metadata": {},
   "outputs": [],
   "source": [
    "# importer les bibliothèques\n",
    "import pandas as pd\n",
    "import numpy as np\n",
    "import matplotlib.pyplot as plt\n",
    "import seaborn as sns\n",
    "\n",
    "%matplotlib inline\n",
    "from sklearn.decomposition import PCA\n",
    "from sklearn.preprocessing import StandardScaler"
   ]
  },
  {
   "cell_type": "code",
   "execution_count": 49,
   "id": "5ce93b11",
   "metadata": {},
   "outputs": [
    {
     "name": "stdout",
     "output_type": "stream",
     "text": [
      "Dimensions avant transformation : (150, 4)\n"
     ]
    },
    {
     "data": {
      "text/html": [
       "<div>\n",
       "<style scoped>\n",
       "    .dataframe tbody tr th:only-of-type {\n",
       "        vertical-align: middle;\n",
       "    }\n",
       "\n",
       "    .dataframe tbody tr th {\n",
       "        vertical-align: top;\n",
       "    }\n",
       "\n",
       "    .dataframe thead th {\n",
       "        text-align: right;\n",
       "    }\n",
       "</style>\n",
       "<table border=\"1\" class=\"dataframe\">\n",
       "  <thead>\n",
       "    <tr style=\"text-align: right;\">\n",
       "      <th></th>\n",
       "      <th>f1</th>\n",
       "      <th>f2</th>\n",
       "      <th>f3</th>\n",
       "      <th>f4</th>\n",
       "    </tr>\n",
       "  </thead>\n",
       "  <tbody>\n",
       "    <tr>\n",
       "      <th>0</th>\n",
       "      <td>5.1</td>\n",
       "      <td>3.5</td>\n",
       "      <td>1.4</td>\n",
       "      <td>0.2</td>\n",
       "    </tr>\n",
       "    <tr>\n",
       "      <th>1</th>\n",
       "      <td>4.9</td>\n",
       "      <td>3.0</td>\n",
       "      <td>1.4</td>\n",
       "      <td>0.2</td>\n",
       "    </tr>\n",
       "    <tr>\n",
       "      <th>2</th>\n",
       "      <td>4.7</td>\n",
       "      <td>3.2</td>\n",
       "      <td>1.3</td>\n",
       "      <td>0.2</td>\n",
       "    </tr>\n",
       "    <tr>\n",
       "      <th>3</th>\n",
       "      <td>4.6</td>\n",
       "      <td>3.1</td>\n",
       "      <td>1.5</td>\n",
       "      <td>0.2</td>\n",
       "    </tr>\n",
       "    <tr>\n",
       "      <th>4</th>\n",
       "      <td>5.0</td>\n",
       "      <td>3.6</td>\n",
       "      <td>1.4</td>\n",
       "      <td>0.2</td>\n",
       "    </tr>\n",
       "  </tbody>\n",
       "</table>\n",
       "</div>"
      ],
      "text/plain": [
       "    f1   f2   f3   f4\n",
       "0  5.1  3.5  1.4  0.2\n",
       "1  4.9  3.0  1.4  0.2\n",
       "2  4.7  3.2  1.3  0.2\n",
       "3  4.6  3.1  1.5  0.2\n",
       "4  5.0  3.6  1.4  0.2"
      ]
     },
     "execution_count": 49,
     "metadata": {},
     "output_type": "execute_result"
    }
   ],
   "source": [
    "data = pd.read_csv ('data.csv')\n",
    "\n",
    "# Les dimensions des données avant la transformation avec PCA\n",
    "print(\"Dimensions avant transformation :\", data.shape)\n",
    "data.head ()"
   ]
  },
  {
   "cell_type": "code",
   "execution_count": 48,
   "id": "83a9c092",
   "metadata": {},
   "outputs": [
    {
     "name": "stdout",
     "output_type": "stream",
     "text": [
      "Dimensions avant transformation : (150, 4)\n"
     ]
    }
   ],
   "source": []
  },
  {
   "cell_type": "code",
   "execution_count": 11,
   "id": "2d650c15",
   "metadata": {},
   "outputs": [
    {
     "data": {
      "text/plain": [
       "<Axes: xlabel='f1', ylabel='f2'>"
      ]
     },
     "execution_count": 11,
     "metadata": {},
     "output_type": "execute_result"
    },
    {
     "data": {
      "image/png": "[encoded data removed]",
      "text/plain": [
       "<Figure size 1000x600 with 1 Axes>"
      ]
     },
     "metadata": {},
     "output_type": "display_data"
    }
   ],
   "source": [
    "# Visualiser les données dans leur état actuel\n",
    "sns.scatterplot\n",
    "\n",
    "plt.figure (figsize = (10, 6))\n",
    "plt.style.use ('ggplot')\n",
    "sns.scatterplot (data = data, x = 'f1', y = 'f2')"
   ]
  },
  {
   "cell_type": "code",
   "execution_count": 43,
   "id": "a578f6fd",
   "metadata": {},
   "outputs": [
    {
     "name": "stdout",
     "output_type": "stream",
     "text": [
      "(150, 2)\n"
     ]
    },
    {
     "data": {
      "text/html": [
       "<div>\n",
       "<style scoped>\n",
       "    .dataframe tbody tr th:only-of-type {\n",
       "        vertical-align: middle;\n",
       "    }\n",
       "\n",
       "    .dataframe tbody tr th {\n",
       "        vertical-align: top;\n",
       "    }\n",
       "\n",
       "    .dataframe thead th {\n",
       "        text-align: right;\n",
       "    }\n",
       "</style>\n",
       "<table border=\"1\" class=\"dataframe\">\n",
       "  <thead>\n",
       "    <tr style=\"text-align: right;\">\n",
       "      <th></th>\n",
       "      <th>PCA1</th>\n",
       "      <th>PCA2</th>\n",
       "    </tr>\n",
       "  </thead>\n",
       "  <tbody>\n",
       "    <tr>\n",
       "      <th>0</th>\n",
       "      <td>-2.264703</td>\n",
       "      <td>0.480027</td>\n",
       "    </tr>\n",
       "    <tr>\n",
       "      <th>1</th>\n",
       "      <td>-2.080961</td>\n",
       "      <td>-0.674134</td>\n",
       "    </tr>\n",
       "    <tr>\n",
       "      <th>2</th>\n",
       "      <td>-2.364229</td>\n",
       "      <td>-0.341908</td>\n",
       "    </tr>\n",
       "    <tr>\n",
       "      <th>3</th>\n",
       "      <td>-2.299384</td>\n",
       "      <td>-0.597395</td>\n",
       "    </tr>\n",
       "    <tr>\n",
       "      <th>4</th>\n",
       "      <td>-2.389842</td>\n",
       "      <td>0.646835</td>\n",
       "    </tr>\n",
       "  </tbody>\n",
       "</table>\n",
       "</div>"
      ],
      "text/plain": [
       "       PCA1      PCA2\n",
       "0 -2.264703  0.480027\n",
       "1 -2.080961 -0.674134\n",
       "2 -2.364229 -0.341908\n",
       "3 -2.299384 -0.597395\n",
       "4 -2.389842  0.646835"
      ]
     },
     "execution_count": 43,
     "metadata": {},
     "output_type": "execute_result"
    }
   ],
   "source": [
    "# Normaliser les données avand d'appliquer le PAC\n",
    "x_scaled = StandardScaler()\n",
    " \n",
    "# Appeler les fonction fit () et transform () pour transformer les données\n",
    "x_scaled.fit (data)\n",
    "x_scaled = x_scaled.transform (data)\n",
    " \n",
    "# Appliquer le PCA avec n_components = 2\n",
    "pca = PCA (n_components = 2)\n",
    "pca.fit (x_scaled)\n",
    "principal_df = pca.transform (z)\n",
    " \n",
    "# Vérifier les dimensions après la transformation avec PCA\n",
    "print(\"Dimensions après transformation :\", principal_df.shape)\n",
    "\n",
    "pca_df = pd.DataFrame(data = principal_df, columns=['PCA1', 'PCA2'])\n",
    "pca_df.head ()"
   ]
  },
  {
   "cell_type": "code",
   "execution_count": 44,
   "id": "477f1d63",
   "metadata": {},
   "outputs": [
    {
     "data": {
      "text/plain": [
       "array([[ 0.52106591, -0.26934744,  0.5804131 ,  0.56485654],\n",
       "       [ 0.37741762,  0.92329566,  0.02449161,  0.06694199]])"
      ]
     },
     "execution_count": 44,
     "metadata": {},
     "output_type": "execute_result"
    }
   ],
   "source": [
    "# Vérifier les valeurs des vecteurs propres produits par les composantes principales\n",
    "pca.components_"
   ]
  },
  {
   "cell_type": "code",
   "execution_count": 47,
   "id": "60d78bcd",
   "metadata": {},
   "outputs": [
    {
     "data": {
      "text/plain": [
       "<Axes: xlabel='PCA1', ylabel='PCA2'>"
      ]
     },
     "execution_count": 47,
     "metadata": {},
     "output_type": "execute_result"
    },
    {
     "data": {
      "image/png": "[encoded data removed]",
      "text/plain": [
       "<Figure size 1000x600 with 1 Axes>"
      ]
     },
     "metadata": {},
     "output_type": "display_data"
    }
   ],
   "source": [
    "# Visuliser les données transformées\n",
    "plt.figure (figsize = (10, 6))\n",
    "plt.style.use ('ggplot')\n",
    "sns.scatterplot (data = pca, x = 'PCA1', y = 'PCA2', hue = 'PCA2')"
   ]
  },
  {
   "cell_type": "code",
   "execution_count": null,
   "id": "31e551fa",
   "metadata": {},
   "outputs": [],
   "source": []
  }
 ],
 "metadata": {
  "kernelspec": {
   "display_name": "Python 3 (ipykernel)",
   "language": "python",
   "name": "python3"
  },
  "language_info": {
   "codemirror_mode": {
    "name": "ipython",
    "version": 3
   },
   "file_extension": ".py",
   "mimetype": "text/x-python",
   "name": "python",
   "nbconvert_exporter": "python",
   "pygments_lexer": "ipython3",
   "version": "3.10.9"
  }
 },
 "nbformat": 4,
 "nbformat_minor": 5
}
