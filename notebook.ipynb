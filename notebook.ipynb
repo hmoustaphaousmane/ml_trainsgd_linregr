{
 "cells": [
  {
   "cell_type": "code",
   "execution_count": null,
   "id": "69c12aef",
   "metadata": {},
   "outputs": [],
   "source": [
    "# La fonction train avec Stochoastic Gradient Descent\n",
    "def TrainSGD(x, y, lr, epoch):\n",
    "    m = len(y)\n",
    "    x = add_ones(x.values)\n",
    "    theta = np.zeros(x.shape[1])\n",
    "    cost_history = np.zeros(epoch)\n",
    "\n",
    "    for i in range(epoch):\n",
    "        for j in range(m):\n",
    "            rand_index = np.random.randint(0, m)\n",
    "            x_sample = x[rand_index, :]\n",
    "            y_sample = y[rand_index]\n",
    "            error = x_sample.dot(theta) - y_sample\n",
    "            gradient = x_sample * error\n",
    "            theta_new = theta - lr * gradient\n",
    "            theta = theta_new\n",
    "\n",
    "        cost_history[i] = compute_cost(x, y, theta)\n",
    "\n",
    "    return theta, cost_history"
   ]
  },
  {
   "cell_type": "code",
   "execution_count": null,
   "id": "df5e3d19",
   "metadata": {},
   "outputs": [],
   "source": [
    "# Correction\n",
    "def Train(self, X, y):\n",
    "    m = len\n",
    "    X = self.add_ones(X.values)\n",
    "    self.theta = np.zeros(X.shape[1])\n",
    "    \n",
    "    self.cost_history = np.zeros(self.epoch)\n",
    "    for i in range(self.epoch):\n",
    "        np.random.seed(3)\n",
    "        perm = np.random.permutation(len(X_train))\n",
    "        X = X[perm]\n",
    "        y = y.iloc[perm]\n",
    "        for j in range(len(X)):\n",
    "            theta_new = self.theta - self.lr*X[j].T.dot(X[j].dot(self.theta) - y.iloc[j])\n",
    "            self.theta = theta_new \n",
    "            self.cost_history[i] = self.compute_cost(X, y,self.theta)\n",
    "            \n",
    "    return  self.theta, self.cost_history"
   ]
  },
  {
   "cell_type": "markdown",
   "id": "790af650",
   "metadata": {},
   "source": [
    "---\n",
    "<center><h2>2. Reprendre la regression linéaire avec scikit-learn.<\\h2><\\center>\n",
    "    \n",
    "---"
   ]
  },
  {
   "cell_type": "code",
   "execution_count": 40,
   "id": "da6ad1de",
   "metadata": {},
   "outputs": [],
   "source": [
    "# Importer les bibliothèques nécessaires :\n",
    "import numpy as np\n",
    "import pandas as pd\n",
    "import matplotlib.pyplot as plt\n",
    "from sklearn.linear_model import LinearRegression\n",
    "from sklearn.metrics import mean_squared_error, r2_score"
   ]
  },
  {
   "cell_type": "code",
   "execution_count": 41,
   "id": "a85aa8c4",
   "metadata": {},
   "outputs": [
    {
     "data": {
      "text/html": [
       "<div>\n",
       "<style scoped>\n",
       "    .dataframe tbody tr th:only-of-type {\n",
       "        vertical-align: middle;\n",
       "    }\n",
       "\n",
       "    .dataframe tbody tr th {\n",
       "        vertical-align: top;\n",
       "    }\n",
       "\n",
       "    .dataframe thead th {\n",
       "        text-align: right;\n",
       "    }\n",
       "</style>\n",
       "<table border=\"1\" class=\"dataframe\">\n",
       "  <thead>\n",
       "    <tr style=\"text-align: right;\">\n",
       "      <th></th>\n",
       "      <th>X1</th>\n",
       "      <th>X2</th>\n",
       "      <th>X3</th>\n",
       "      <th>X4</th>\n",
       "      <th>Y</th>\n",
       "    </tr>\n",
       "  </thead>\n",
       "  <tbody>\n",
       "    <tr>\n",
       "      <th>0</th>\n",
       "      <td>14.96</td>\n",
       "      <td>41.76</td>\n",
       "      <td>1024.07</td>\n",
       "      <td>73.17</td>\n",
       "      <td>463.26</td>\n",
       "    </tr>\n",
       "    <tr>\n",
       "      <th>1</th>\n",
       "      <td>25.18</td>\n",
       "      <td>62.96</td>\n",
       "      <td>1020.04</td>\n",
       "      <td>59.08</td>\n",
       "      <td>444.37</td>\n",
       "    </tr>\n",
       "    <tr>\n",
       "      <th>2</th>\n",
       "      <td>5.11</td>\n",
       "      <td>39.40</td>\n",
       "      <td>1012.16</td>\n",
       "      <td>92.14</td>\n",
       "      <td>488.56</td>\n",
       "    </tr>\n",
       "    <tr>\n",
       "      <th>3</th>\n",
       "      <td>20.86</td>\n",
       "      <td>57.32</td>\n",
       "      <td>1010.24</td>\n",
       "      <td>76.64</td>\n",
       "      <td>446.48</td>\n",
       "    </tr>\n",
       "    <tr>\n",
       "      <th>4</th>\n",
       "      <td>10.82</td>\n",
       "      <td>37.50</td>\n",
       "      <td>1009.23</td>\n",
       "      <td>96.62</td>\n",
       "      <td>473.90</td>\n",
       "    </tr>\n",
       "  </tbody>\n",
       "</table>\n",
       "</div>"
      ],
      "text/plain": [
       "      X1     X2       X3     X4       Y\n",
       "0  14.96  41.76  1024.07  73.17  463.26\n",
       "1  25.18  62.96  1020.04  59.08  444.37\n",
       "2   5.11  39.40  1012.16  92.14  488.56\n",
       "3  20.86  57.32  1010.24  76.64  446.48\n",
       "4  10.82  37.50  1009.23  96.62  473.90"
      ]
     },
     "execution_count": 41,
     "metadata": {},
     "output_type": "execute_result"
    }
   ],
   "source": [
    "# Lire le fichier `data.xlsx` et sauver son contenu dans la varisble `data`\n",
    "data = pd.read_excel(\"data.xlsx\")\n",
    "\n",
    "# Afficher le dataframe\n",
    "data.head ()"
   ]
  },
  {
   "cell_type": "code",
   "execution_count": 42,
   "id": "cc79b683",
   "metadata": {},
   "outputs": [],
   "source": [
    "# Récuperer la colonne à prédire Y\n",
    "Y = data.pop('Y')\n",
    "\n",
    "# Selectionner les colonnes sur lesquelles notre prédiction séra basée\n",
    "X = data.values\n",
    "\n",
    "# Afficher les features\n",
    "# display (y)\n",
    "# display (X)"
   ]
  },
  {
   "cell_type": "code",
   "execution_count": 43,
   "id": "75ccccb6",
   "metadata": {},
   "outputs": [
    {
     "name": "stdout",
     "output_type": "stream",
     "text": [
      "7176\n",
      "2392\n",
      "7176\n",
      "2392\n",
      "\n",
      "(7176, 4)\n",
      "(7176,)\n",
      "(2392, 4)\n",
      "(2392,)\n"
     ]
    }
   ],
   "source": [
    "# Partager les données en deux parties : une pour l'apprentissage (train) et une autre pour le test\n",
    "X_train, X_test, Y_train, Y_test = train_test_split(X, Y)\n",
    "print(len(X_train))\n",
    "print(len(X_test))\n",
    "print(len(Y_train))\n",
    "print(len(Y_test))\n",
    "\n",
    "print ()\n",
    "\n",
    "print(X_train.shape)\n",
    "print(Y_train.shape)\n",
    "print(X_test.shape)\n",
    "print(Y_test.shape)"
   ]
  },
  {
   "cell_type": "code",
   "execution_count": 44,
   "id": "89d92cd9",
   "metadata": {},
   "outputs": [
    {
     "data": {
      "text/plain": [
       "array([450.28945084, 464.91090926, 467.35164338, ..., 426.19096203,\n",
       "       447.26132411, 460.61740219])"
      ]
     },
     "metadata": {},
     "output_type": "display_data"
    }
   ],
   "source": [
    "# Créer le model \n",
    "lin_regr = LinearRegression()\n",
    "\n",
    "# On fit (entraine) le modele (apprentissage)\n",
    "lin_regr.fit(X_train, Y_train)\n",
    "\n",
    "# Prédir la valeur de Y\n",
    "y_predict = lin_regr.predict(X_test)\n",
    "\n",
    "# Afficher la valeur prédite\n",
    "display(y_predict)"
   ]
  },
  {
   "cell_type": "code",
   "execution_count": 45,
   "id": "d52fb3aa",
   "metadata": {},
   "outputs": [
    {
     "name": "stdout",
     "output_type": "stream",
     "text": [
      "Mean Squared Error : 21.1743670168354\n",
      "Root Mean Squared Error 4.601561367279089\n"
     ]
    }
   ],
   "source": [
    "# Mean Squared Error (mse) : l'erreur moyenne au carrée\n",
    "mse = mean_squared_error (Y_test, y_predict)\n",
    "print (\"Mean Squared Error :\", mse)\n",
    "\n",
    "# Root Mean Squared Error (rmse) : la racine carrée de l'erreur moyenne au carrée\n",
    "rmse = np.sqrt(mse)\n",
    "print (\"Root Mean Squared Error\", rmse)"
   ]
  },
  {
   "cell_type": "code",
   "execution_count": 46,
   "id": "de66cd91",
   "metadata": {},
   "outputs": [
    {
     "data": {
      "text/plain": [
       "Text(0, 0.5, 'Actual')"
      ]
     },
     "execution_count": 46,
     "metadata": {},
     "output_type": "execute_result"
    },
    {
     "data": {
      "image/png": "[encoded data removed]",
      "text/plain": [
       "<Figure size 640x480 with 1 Axes>"
      ]
     },
     "metadata": {},
     "output_type": "display_data"
    }
   ],
   "source": [
    "# Choix du graph\n",
    "pylab.scatter(y_predict, Y_test)\n",
    "\n",
    "# Labels\n",
    "pylab.xlabel('Predicted')\n",
    "pylab.ylabel('Actual')"
   ]
  },
  {
   "cell_type": "code",
   "execution_count": null,
   "id": "38a076ea",
   "metadata": {},
   "outputs": [],
   "source": []
  },
  {
   "cell_type": "code",
   "execution_count": null,
   "id": "880eaa5a",
   "metadata": {},
   "outputs": [],
   "source": []
  }
 ],
 "metadata": {
  "kernelspec": {
   "display_name": "Python 3 (ipykernel)",
   "language": "python",
   "name": "python3"
  },
  "language_info": {
   "codemirror_mode": {
    "name": "ipython",
    "version": 3
   },
   "file_extension": ".py",
   "mimetype": "text/x-python",
   "name": "python",
   "nbconvert_exporter": "python",
   "pygments_lexer": "ipython3",
   "version": "3.10.9"
  }
 },
 "nbformat": 4,
 "nbformat_minor": 5
}
