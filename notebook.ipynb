{
 "cells": [
  {
   "cell_type": "code",
   "execution_count": 2,
   "id": "f814141f",
   "metadata": {},
   "outputs": [],
   "source": [
    "# La fonction train avec Stochoastic Gradient Descent\n",
    "def TrainSGD(x, y, lr, epoch):\n",
    "    m = len(y)\n",
    "    x = add_ones(x.values)\n",
    "    theta = np.zeros(x.shape[1])\n",
    "    cost_history = np.zeros(epoch)\n",
    "\n",
    "    for i in range(epoch):\n",
    "        for j in range(m):\n",
    "            rand_index = np.random.randint(0, m)\n",
    "            x_sample = x[rand_index, :]\n",
    "            y_sample = y[rand_index]\n",
    "            error = x_sample.dot(theta) - y_sample\n",
    "            gradient = x_sample * error\n",
    "            theta_new = theta - lr * gradient\n",
    "            theta = theta_new\n",
    "\n",
    "        cost_history[i] = compute_cost(x, y, theta)\n",
    "\n",
    "    return theta, cost_history"
   ]
  },
  {
   "cell_type": "code",
   "execution_count": 3,
   "id": "2e24d76f",
   "metadata": {},
   "outputs": [
    {
     "name": "stdout",
     "output_type": "stream",
     "text": [
      "\u001b[33mhint: Using 'master' as the name for the initial branch. This default branch name\u001b[m\r\n",
      "\u001b[33mhint: is subject to change. To configure the initial branch name to use in all\u001b[m\r\n",
      "\u001b[33mhint: of your new repositories, which will suppress this warning, call:\u001b[m\r\n",
      "\u001b[33mhint: \u001b[m\r\n",
      "\u001b[33mhint: \tgit config --global init.defaultBranch <name>\u001b[m\r\n",
      "\u001b[33mhint: \u001b[m\r\n",
      "\u001b[33mhint: Names commonly chosen instead of 'master' are 'main', 'trunk' and\u001b[m\r\n",
      "\u001b[33mhint: 'development'. The just-created branch can be renamed via this command:\u001b[m\r\n",
      "\u001b[33mhint: \u001b[m\r\n",
      "\u001b[33mhint: \tgit branch -m <name>\u001b[m\r\n",
      "Initialised empty Git repository in /home/hassane/Documents/tech4tchad/Semestre 2/Machine Learning/activitites/linear_regression/.git/\r\n"
     ]
    }
   ],
   "source": [
    "!git init"
   ]
  },
  {
   "cell_type": "code",
   "execution_count": 4,
   "id": "605638f6",
   "metadata": {},
   "outputs": [],
   "source": [
    "!echo \"# ml_trainsgd_linregr\" >> README.md"
   ]
  },
  {
   "cell_type": "code",
   "execution_count": 11,
   "id": "08dc2ece",
   "metadata": {},
   "outputs": [
    {
     "name": "stdout",
     "output_type": "stream",
     "text": [
      "fatal: pathspec 'notebook' did not match any files\r\n"
     ]
    }
   ],
   "source": [
    "!git add notebook"
   ]
  },
  {
   "cell_type": "code",
   "execution_count": 6,
   "id": "f425488b",
   "metadata": {},
   "outputs": [
    {
     "name": "stdout",
     "output_type": "stream",
     "text": [
      "[master (root-commit) 5728718] First commit\r\n",
      " 1 file changed, 1 insertion(+)\r\n",
      " create mode 100644 README.md\r\n"
     ]
    }
   ],
   "source": [
    "!git commit -m \"First commit\""
   ]
  },
  {
   "cell_type": "code",
   "execution_count": 7,
   "id": "dab20207",
   "metadata": {},
   "outputs": [],
   "source": [
    "!git branch -M main"
   ]
  },
  {
   "cell_type": "code",
   "execution_count": 8,
   "id": "3a040cae",
   "metadata": {},
   "outputs": [],
   "source": [
    "!git remote add origin git@github.com:hmoustaphaousmane/ml_trainsgd_linregr.git"
   ]
  },
  {
   "cell_type": "code",
   "execution_count": 10,
   "id": "4ba26fb2",
   "metadata": {},
   "outputs": [
    {
     "name": "stdout",
     "output_type": "stream",
     "text": [
      "Enumerating objects: 3, done.\n",
      "Counting objects: 100% (3/3), done.\n",
      "Writing objects: 100% (3/3), 238 bytes | 119.00 KiB/s, done.\n",
      "Total 3 (delta 0), reused 0 (delta 0), pack-reused 0\n",
      "To github.com:hmoustaphaousmane/ml_trainsgd_linregr.git\n",
      " * [new branch]      main -> main\n",
      "Branch 'main' set up to track remote branch 'main' from 'origin'.\n"
     ]
    }
   ],
   "source": [
    "!git push -u origin main"
   ]
  },
  {
   "cell_type": "code",
   "execution_count": null,
   "id": "bda1b70e",
   "metadata": {},
   "outputs": [],
   "source": []
  }
 ],
 "metadata": {
  "kernelspec": {
   "display_name": "Python 3 (ipykernel)",
   "language": "python",
   "name": "python3"
  },
  "language_info": {
   "codemirror_mode": {
    "name": "ipython",
    "version": 3
   },
   "file_extension": ".py",
   "mimetype": "text/x-python",
   "name": "python",
   "nbconvert_exporter": "python",
   "pygments_lexer": "ipython3",
   "version": "3.10.9"
  }
 },
 "nbformat": 4,
 "nbformat_minor": 5
}
